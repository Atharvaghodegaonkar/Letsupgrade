{
 "cells": [
  {
   "cell_type": "markdown",
   "metadata": {},
   "source": [
    "## First assignment "
   ]
  },
  {
   "cell_type": "markdown",
   "metadata": {},
   "source": [
    "Question 1"
   ]
  },
  {
   "cell_type": "code",
   "execution_count": 1,
   "metadata": {},
   "outputs": [
    {
     "data": {
      "text/plain": [
       "(3+3j)"
      ]
     },
     "execution_count": 1,
     "metadata": {},
     "output_type": "execute_result"
    }
   ],
   "source": [
    "num_1 = complex(5,8)\n",
    "num_2 = complex(2,5)\n",
    "ans = num_1 - num_2\n",
    "ans"
   ]
  },
  {
   "cell_type": "markdown",
   "metadata": {},
   "source": [
    "Question 2"
   ]
  },
  {
   "cell_type": "code",
   "execution_count": 10,
   "metadata": {},
   "outputs": [
    {
     "name": "stdout",
     "output_type": "stream",
     "text": [
      "81\n",
      "Fourth root of the number is 3.0\n"
     ]
    }
   ],
   "source": [
    "num = int(input())\n",
    "ans =  num ** (1/4)\n",
    "print('Fourth root of the number is {}'.format(ans))"
   ]
  },
  {
   "cell_type": "markdown",
   "metadata": {},
   "source": [
    "Question 3"
   ]
  },
  {
   "cell_type": "code",
   "execution_count": 11,
   "metadata": {},
   "outputs": [
    {
     "name": "stdout",
     "output_type": "stream",
     "text": [
      "number num_1 is 5 and num_2 is 8\n",
      "number after exchange num_1 is 8 and num_2 is 5\n"
     ]
    }
   ],
   "source": [
    "num_1 = 5\n",
    "num_2 = 8\n",
    "print('number num_1 is {} and num_2 is {}'.format(num_1 , num_2))\n",
    "temp = num_1\n",
    "num_1 = num_2\n",
    "num_2 = temp\n",
    "print('number after exchange num_1 is {} and num_2 is {}'.format(num_1 , num_2))"
   ]
  },
  {
   "cell_type": "markdown",
   "metadata": {},
   "source": [
    "Questions 4"
   ]
  },
  {
   "cell_type": "code",
   "execution_count": 12,
   "metadata": {},
   "outputs": [
    {
     "name": "stdout",
     "output_type": "stream",
     "text": [
      "number num_1 is 5 and num_2 is 8\n",
      "number num_1 is 8 and num_2 is 5\n"
     ]
    }
   ],
   "source": [
    "num_1 = 5\n",
    "num_2 = 8\n",
    "print('number num_1 is {} and num_2 is {}'.format(num_1 , num_2))\n",
    "num_1 = num_1 + num_2 \n",
    "num_2 = num_1 - num_2\n",
    "num_1 = num_1 - num_2\n",
    "print('number after exchange num_1 is {} and num_2 is {}'.format(num_1 , num_2))"
   ]
  },
  {
   "cell_type": "markdown",
   "metadata": {},
   "source": [
    "else"
   ]
  },
  {
   "cell_type": "code",
   "execution_count": 13,
   "metadata": {},
   "outputs": [
    {
     "name": "stdout",
     "output_type": "stream",
     "text": [
      "number num_1 is 5 and num_2 is 8\n",
      "number after exchange num_1 is 8 and num_2 is 5\n"
     ]
    }
   ],
   "source": [
    "num_1 = 5\n",
    "num_2 = 8\n",
    "print('number num_1 is {} and num_2 is {}'.format(num_1 , num_2))\n",
    "num_1,num_2 = num_2 , num_1\n",
    "print('number after exchange num_1 is {} and num_2 is {}'.format(num_1 , num_2))\n"
   ]
  },
  {
   "cell_type": "markdown",
   "metadata": {},
   "source": [
    "Question 5"
   ]
  },
  {
   "cell_type": "code",
   "execution_count": 19,
   "metadata": {},
   "outputs": [
    {
     "name": "stdout",
     "output_type": "stream",
     "text": [
      "30\n",
      "celsius temperature is -1.1111111111111112\n",
      "kelvin temperature is 272.0388888888889\n"
     ]
    }
   ],
   "source": [
    "temp = float(input())\n",
    "cel_temp = (temp - 32) * (5/9)\n",
    "kel_temp = cel_temp + 273.15\n",
    "print('celsius temperature is {}'.format(cel_temp))\n",
    "print('kelvin temperature is {}'.format(kel_temp))"
   ]
  },
  {
   "cell_type": "markdown",
   "metadata": {},
   "source": [
    "Question 6"
   ]
  },
  {
   "cell_type": "code",
   "execution_count": 40,
   "metadata": {},
   "outputs": [
    {
     "name": "stdout",
     "output_type": "stream",
     "text": [
      "<class 'int'>\n",
      "<class 'float'>\n",
      "<class 'str'>\n",
      "<class 'list'>\n",
      "<class 'tuple'>\n",
      "<class 'dict'>\n",
      "<class 'set'>\n"
     ]
    }
   ],
   "source": [
    "a = 1\n",
    "print(type(a))\n",
    "a = 1.1\n",
    "print(type(a))\n",
    "a = 'a'\n",
    "print(type(a))\n",
    "a = ['a','b','c']\n",
    "print(type(a))\n",
    "a = ('a','b','c')\n",
    "print(type(a))\n",
    "a = {'a' : 1 , 'b' : 2}\n",
    "print(type(a))\n",
    "a = {'1' , '2' ,'3'}\n",
    "print(type(a))"
   ]
  },
  {
   "cell_type": "markdown",
   "metadata": {},
   "source": [
    "Question 7"
   ]
  },
  {
   "cell_type": "markdown",
   "metadata": {},
   "source": [
    "* Build project folder on local system\n",
    "* Create resp with name upgrade AI-ML\n",
    "* upload folder stored in local system in repo"
   ]
  }
 ],
 "metadata": {
  "kernelspec": {
   "display_name": "Python 3",
   "language": "python",
   "name": "python3"
  },
  "language_info": {
   "codemirror_mode": {
    "name": "ipython",
    "version": 3
   },
   "file_extension": ".py",
   "mimetype": "text/x-python",
   "name": "python",
   "nbconvert_exporter": "python",
   "pygments_lexer": "ipython3",
   "version": "3.7.1"
  }
 },
 "nbformat": 4,
 "nbformat_minor": 2
}
