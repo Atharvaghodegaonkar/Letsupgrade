{
 "cells": [
  {
   "cell_type": "markdown",
   "metadata": {},
   "source": [
    "Question 1"
   ]
  },
  {
   "cell_type": "code",
   "execution_count": 84,
   "metadata": {},
   "outputs": [
    {
     "name": "stdout",
     "output_type": "stream",
     "text": [
      "Please enter your email address  john@google.com\n",
      "Company name :  google\n"
     ]
    }
   ],
   "source": [
    "string = input('Please enter your email address  ')\n",
    "string = string.split('@')[1].split('.')[0]\n",
    "print('Company name : ' , string)"
   ]
  },
  {
   "cell_type": "markdown",
   "metadata": {},
   "source": [
    "Question 2"
   ]
  },
  {
   "cell_type": "code",
   "execution_count": 88,
   "metadata": {},
   "outputs": [
    {
     "name": "stdout",
     "output_type": "stream",
     "text": [
      "Enter comma sep wordswithout,hello,bag,world\n",
      "bag,hello,without,world,"
     ]
    }
   ],
   "source": [
    "lis = input('Enter comma sep words')\n",
    "lis = lis.split(',')\n",
    "lis = sorted(lis)\n",
    "for i in lis:\n",
    "    print(i , end=',')"
   ]
  },
  {
   "cell_type": "markdown",
   "metadata": {},
   "source": [
    "Question 4"
   ]
  },
  {
   "cell_type": "code",
   "execution_count": 96,
   "metadata": {},
   "outputs": [
    {
     "name": "stdout",
     "output_type": "stream",
     "text": [
      "Enter the list of numbers 1 2 4 8 7 6 5\n",
      "3 "
     ]
    }
   ],
   "source": [
    "lis = input('Enter the list of numbers ')\n",
    "lis = lis.split(' ')\n",
    "lis = list([int(ele) for ele in lis])\n",
    "lis = sorted(lis)\n",
    "i = 0\n",
    "j = 1\n",
    "while (j <= len(lis)-1):\n",
    "    num_1 = lis[i]\n",
    "    num_2 = lis[j]\n",
    "    for k in range (num_1+1 , num_2):\n",
    "        print(k , end = ' ')\n",
    "    i += 1\n",
    "    j += 1"
   ]
  },
  {
   "cell_type": "code",
   "execution_count": 87,
   "metadata": {},
   "outputs": [
    {
     "name": "stdout",
     "output_type": "stream",
     "text": [
      "Enter the list of numbers 12 24 35 24 88 120 155 88 120 155\n",
      "12 24 35 88 120 155\n"
     ]
    }
   ],
   "source": [
    "lis = input('Enter the list of numbers ')\n",
    "lis = lis.split(' ')\n",
    "lis = list([int(ele) for ele in lis])\n",
    "lis = sorted(lis)\n",
    "lis = list(dict.fromkeys(lis))\n",
    "print(' '.join([str(ele) for ele in lis]))"
   ]
  }
 ],
 "metadata": {
  "kernelspec": {
   "display_name": "Python 3",
   "language": "python",
   "name": "python3"
  },
  "language_info": {
   "codemirror_mode": {
    "name": "ipython",
    "version": 3
   },
   "file_extension": ".py",
   "mimetype": "text/x-python",
   "name": "python",
   "nbconvert_exporter": "python",
   "pygments_lexer": "ipython3",
   "version": "3.7.1"
  }
 },
 "nbformat": 4,
 "nbformat_minor": 2
}
