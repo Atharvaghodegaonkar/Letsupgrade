{
 "cells": [
  {
   "cell_type": "code",
   "execution_count": 18,
   "metadata": {},
   "outputs": [
    {
     "name": "stdout",
     "output_type": "stream",
     "text": [
      "Addition is : (3+7j)\n",
      "Subtraction is : (1+3j)\n",
      "Multiplication is : (-8+9j)\n",
      "Division is : (2.4+0.2j)\n",
      "Mod and floor division is not possible\n"
     ]
    }
   ],
   "source": [
    "a = complex(2,5)\n",
    "b = complex(1,2)\n",
    "# Addition is possible \n",
    "print(\"Addition is :\" , a+b)\n",
    "#  Subtraction is possible \n",
    "print(\"Subtraction is :\" , a-b)\n",
    "# Multplication is possible \n",
    "print(\"Multiplication is :\" , a*b)\n",
    "# Division is poosible\n",
    "print(\"Division is :\",a/b)\n",
    "print('Mod and floor division is not possible')"
   ]
  },
  {
   "cell_type": "markdown",
   "metadata": {},
   "source": [
    "Question 2 "
   ]
  },
  {
   "cell_type": "markdown",
   "metadata": {},
   "source": [
    "Range fuction have three parameters first is starting point , second is end point ( which is minus 1 by end number) and last one is step size (default is one). We use range fuction with for loops"
   ]
  },
  {
   "cell_type": "code",
   "execution_count": 10,
   "metadata": {},
   "outputs": [
    {
     "name": "stdout",
     "output_type": "stream",
     "text": [
      "0\n",
      "1\n",
      "2\n",
      "3\n",
      "4\n"
     ]
    }
   ],
   "source": [
    "for i in range(0,5):\n",
    "    print(i)"
   ]
  },
  {
   "cell_type": "code",
   "execution_count": 12,
   "metadata": {},
   "outputs": [
    {
     "name": "stdout",
     "output_type": "stream",
     "text": [
      "0\n",
      "2\n",
      "4\n",
      "6\n",
      "8\n",
      "10\n"
     ]
    }
   ],
   "source": [
    "for i in range(0,11,2):\n",
    "    print(i)"
   ]
  },
  {
   "cell_type": "markdown",
   "metadata": {},
   "source": [
    "Question 3"
   ]
  },
  {
   "cell_type": "code",
   "execution_count": 2,
   "metadata": {},
   "outputs": [
    {
     "name": "stdout",
     "output_type": "stream",
     "text": [
      "200\n",
      "5\n",
      "1000\n"
     ]
    }
   ],
   "source": [
    "a = int(input())\n",
    "b = int(input())\n",
    "if a-b > 25 :\n",
    "    print(a*b)\n",
    "else :\n",
    "    print(a/b)"
   ]
  },
  {
   "cell_type": "code",
   "execution_count": 3,
   "metadata": {},
   "outputs": [
    {
     "name": "stdout",
     "output_type": "stream",
     "text": [
      "10\n",
      "5\n",
      "2.0\n"
     ]
    }
   ],
   "source": [
    "a = int(input())\n",
    "b = int(input())\n",
    "if a-b > 25 :\n",
    "    print(a*b)\n",
    "else :\n",
    "    print(a/b)"
   ]
  },
  {
   "cell_type": "markdown",
   "metadata": {},
   "source": [
    "Question 4"
   ]
  },
  {
   "cell_type": "code",
   "execution_count": 5,
   "metadata": {},
   "outputs": [
    {
     "name": "stdout",
     "output_type": "stream",
     "text": [
      "98\n",
      "62\n",
      "34\n",
      "14\n",
      "7742\n",
      "1762\n"
     ]
    }
   ],
   "source": [
    "lis = [10,5,8,7,9,6,4,88,42,33]\n",
    "for i in lis :\n",
    "    if i % 2 == 0:\n",
    "        print(i **2 - 2)"
   ]
  },
  {
   "cell_type": "markdown",
   "metadata": {},
   "source": [
    "Question 5"
   ]
  },
  {
   "cell_type": "code",
   "execution_count": 7,
   "metadata": {},
   "outputs": [
    {
     "name": "stdout",
     "output_type": "stream",
     "text": [
      "88\n",
      "42\n",
      "33\n"
     ]
    }
   ],
   "source": [
    "lis = [10,5,8,7,9,6,4,88,42,33]\n",
    "for i in lis:\n",
    "    if i / 2 > 7 :\n",
    "        print(i)\n",
    "    "
   ]
  }
 ],
 "metadata": {
  "kernelspec": {
   "display_name": "Python 3",
   "language": "python",
   "name": "python3"
  },
  "language_info": {
   "codemirror_mode": {
    "name": "ipython",
    "version": 3
   },
   "file_extension": ".py",
   "mimetype": "text/x-python",
   "name": "python",
   "nbconvert_exporter": "python",
   "pygments_lexer": "ipython3",
   "version": "3.7.1"
  }
 },
 "nbformat": 4,
 "nbformat_minor": 2
}
