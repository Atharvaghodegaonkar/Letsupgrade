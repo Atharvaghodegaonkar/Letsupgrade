{
 "cells": [
  {
   "cell_type": "markdown",
   "metadata": {},
   "source": [
    "## Day 5"
   ]
  },
  {
   "cell_type": "markdown",
   "metadata": {},
   "source": [
    "Question 1 "
   ]
  },
  {
   "cell_type": "code",
   "execution_count": 85,
   "metadata": {},
   "outputs": [
    {
     "name": "stdout",
     "output_type": "stream",
     "text": [
      "First 20 prime numbers are :\n",
      "[3, 5, 7, 11, 13, 17, 19, 23, 29, 31, 37, 41, 43, 47, 53, 59, 61, 67, 71, 73]\n"
     ]
    }
   ],
   "source": [
    "n = 20 \n",
    "lis = []\n",
    "i = 3\n",
    "count = 0\n",
    "while (count < n):\n",
    "    flag = 0\n",
    "    for j in range (2 , i//2+1):\n",
    "        if i % j == 0 :\n",
    "            flag = 1\n",
    "    if flag == 1 :\n",
    "        i +=1\n",
    "    else :\n",
    "        lis.append(i)\n",
    "        count += 1\n",
    "        i += 1\n",
    "        \n",
    "print('First 20 prime numbers are :')        \n",
    "print(lis)        "
   ]
  },
  {
   "cell_type": "markdown",
   "metadata": {},
   "source": [
    "Question 2"
   ]
  },
  {
   "cell_type": "code",
   "execution_count": 86,
   "metadata": {},
   "outputs": [
    {
     "name": "stdout",
     "output_type": "stream",
     "text": [
      "ABCD\n"
     ]
    }
   ],
   "source": [
    "# 1) Upper fuction \n",
    "string = 'abcd'\n",
    "print(string.upper())"
   ]
  },
  {
   "cell_type": "code",
   "execution_count": 87,
   "metadata": {},
   "outputs": [
    {
     "name": "stdout",
     "output_type": "stream",
     "text": [
      "abcd\n"
     ]
    }
   ],
   "source": [
    "# 2) Lower fuction\n",
    "string = 'ABCD'\n",
    "print(string.lower())"
   ]
  },
  {
   "cell_type": "code",
   "execution_count": 88,
   "metadata": {},
   "outputs": [
    {
     "name": "stdout",
     "output_type": "stream",
     "text": [
      "['abbcd', 'okk']\n"
     ]
    }
   ],
   "source": [
    "# 3) split fuction (split on specific char)\n",
    "string = 'abbcd okk'\n",
    "print(string.split(' '))"
   ]
  },
  {
   "cell_type": "code",
   "execution_count": 89,
   "metadata": {},
   "outputs": [
    {
     "name": "stdout",
     "output_type": "stream",
     "text": [
      "2\n"
     ]
    }
   ],
   "source": [
    "# 4) count fuction (count the occurance of char)\n",
    "string = 'aabbccddd'\n",
    "print(string.count('a'))"
   ]
  },
  {
   "cell_type": "code",
   "execution_count": 90,
   "metadata": {},
   "outputs": [
    {
     "name": "stdout",
     "output_type": "stream",
     "text": [
      "2\n"
     ]
    }
   ],
   "source": [
    "# 5) find fuction (return loction of given number)\n",
    "string = 'abcdef'\n",
    "print(string.find('c'))"
   ]
  },
  {
   "cell_type": "code",
   "execution_count": 91,
   "metadata": {},
   "outputs": [
    {
     "name": "stdout",
     "output_type": "stream",
     "text": [
      "ehelloo\n"
     ]
    }
   ],
   "source": [
    "# 6) join fuction (join two strings iterate over second)\n",
    "s1 = 'hello'\n",
    "s2 = 'eo'\n",
    "print(s1.join(s2))"
   ]
  },
  {
   "cell_type": "code",
   "execution_count": 92,
   "metadata": {},
   "outputs": [
    {
     "name": "stdout",
     "output_type": "stream",
     "text": [
      "Abcdef\n"
     ]
    }
   ],
   "source": [
    "# 7) capitalize fuction (Return first letter in upper case)\n",
    "string = 'abcdef'\n",
    "print(string.capitalize())"
   ]
  },
  {
   "cell_type": "code",
   "execution_count": 93,
   "metadata": {},
   "outputs": [
    {
     "name": "stdout",
     "output_type": "stream",
     "text": [
      "       abcdef       \n"
     ]
    }
   ],
   "source": [
    "# 8) center fuction (Returns a centered string with space)\n",
    "string = 'abcdef'\n",
    "print(string.center(20))"
   ]
  },
  {
   "cell_type": "code",
   "execution_count": 94,
   "metadata": {},
   "outputs": [
    {
     "name": "stdout",
     "output_type": "stream",
     "text": [
      "bbbb\n"
     ]
    }
   ],
   "source": [
    "# 9) replace fuction (replace the given char in string)\n",
    "string = 'aaaa'\n",
    "print(string.replace('a','b'))"
   ]
  },
  {
   "cell_type": "code",
   "execution_count": 95,
   "metadata": {},
   "outputs": [
    {
     "name": "stdout",
     "output_type": "stream",
     "text": [
      "True\n"
     ]
    }
   ],
   "source": [
    "# Check fuctions\n",
    "# 10) isalnum fuction (Return true if all char are alphanumeric)\n",
    "string = 'abcd526'\n",
    "print(string.isalnum())"
   ]
  },
  {
   "cell_type": "code",
   "execution_count": 96,
   "metadata": {},
   "outputs": [
    {
     "name": "stdout",
     "output_type": "stream",
     "text": [
      "False\n"
     ]
    }
   ],
   "source": [
    "# 11) isalpha fuction (Return true if all char are alphabet)\n",
    "string = 'abcd526'\n",
    "print(string.isalpha())"
   ]
  },
  {
   "cell_type": "code",
   "execution_count": 97,
   "metadata": {},
   "outputs": [
    {
     "name": "stdout",
     "output_type": "stream",
     "text": [
      "True\n"
     ]
    }
   ],
   "source": [
    "# 12) isdecimal fuction (Return true if all char are decimal)\n",
    "string = '1234'\n",
    "print(string.isdecimal())"
   ]
  },
  {
   "cell_type": "code",
   "execution_count": 98,
   "metadata": {},
   "outputs": [
    {
     "name": "stdout",
     "output_type": "stream",
     "text": [
      "True\n"
     ]
    }
   ],
   "source": [
    "# 13) islower fuction (return true if all char is in lower case)\n",
    "string = 'abcd'\n",
    "print(string.islower())"
   ]
  },
  {
   "cell_type": "code",
   "execution_count": 99,
   "metadata": {},
   "outputs": [
    {
     "name": "stdout",
     "output_type": "stream",
     "text": [
      "False\n"
     ]
    }
   ],
   "source": [
    "# 14) isupper fuction (return true if all char is in upper case)\n",
    "string = 'ABCd'\n",
    "print(string.isupper())"
   ]
  },
  {
   "cell_type": "code",
   "execution_count": 100,
   "metadata": {},
   "outputs": [
    {
     "name": "stdout",
     "output_type": "stream",
     "text": [
      "('AA', 'BB', 'CCDD')\n"
     ]
    }
   ],
   "source": [
    "# 15) rpartition() (retune three tuple splict on given char)\n",
    "string = 'AABBCCDD'\n",
    "print(string.rpartition('BB'))"
   ]
  },
  {
   "cell_type": "markdown",
   "metadata": {},
   "source": [
    "Question 3"
   ]
  },
  {
   "cell_type": "code",
   "execution_count": 101,
   "metadata": {},
   "outputs": [
    {
     "name": "stdout",
     "output_type": "stream",
     "text": [
      "madam\n",
      "madam\n",
      " Palindrome \n"
     ]
    }
   ],
   "source": [
    "# Palindrome \n",
    "string_1 = input()\n",
    "string_2 = input()\n",
    "length = len(string_1)\n",
    "string_1_list = list([str(ele) for ele in string_1 ])\n",
    "string_2_list = list([str(ele) for ele in string_2 ])\n",
    "\n",
    "if length % 2 == 0:\n",
    "    lis_1 = string_1[0: length // 2 ]\n",
    "    lis_2 = string_1[length // 2 : length ][::-1]\n",
    "else :\n",
    "    lis_1 = string_1[0: (length // 2) ]\n",
    "    lis_2 = string_1[(length // 2) + 1 : length ][::-1]\n",
    "    \n",
    "if lis_1 == lis_2:\n",
    "    print(' Palindrome ')\n",
    "    \n",
    "elif sorted(string_1_list) == sorted(string_2_list):    \n",
    "    print('Anagram')\n",
    "    \n",
    "else :\n",
    "    print('None of them')"
   ]
  },
  {
   "cell_type": "markdown",
   "metadata": {},
   "source": [
    "Question 4"
   ]
  },
  {
   "cell_type": "code",
   "execution_count": 102,
   "metadata": {},
   "outputs": [
    {
     "name": "stdout",
     "output_type": "stream",
     "text": [
      "\"Dr. Darshan Ingle @AI-ML Trainer\n",
      "drdarshaningleaimltrainer\n"
     ]
    }
   ],
   "source": [
    "string = input()\n",
    "space = \"\"\n",
    "\n",
    "for i in string:\n",
    "    if i.isalnum():\n",
    "        space += i\n",
    "        \n",
    "print(space.lower())        \n",
    "        "
   ]
  }
 ],
 "metadata": {
  "kernelspec": {
   "display_name": "Python 3",
   "language": "python",
   "name": "python3"
  },
  "language_info": {
   "codemirror_mode": {
    "name": "ipython",
    "version": 3
   },
   "file_extension": ".py",
   "mimetype": "text/x-python",
   "name": "python",
   "nbconvert_exporter": "python",
   "pygments_lexer": "ipython3",
   "version": "3.7.1"
  }
 },
 "nbformat": 4,
 "nbformat_minor": 2
}
